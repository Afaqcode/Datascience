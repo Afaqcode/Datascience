{
 "cells": [
  {
   "cell_type": "markdown",
   "id": "021ed0e3",
   "metadata": {},
   "source": [
    "from IPython.display import Markdown\n",
    "\n",
    "display(Markdown(\"# Data Science Tools and Ecosystem\"))"
   ]
  },
  {
   "cell_type": "markdown",
   "id": "089b6f42",
   "metadata": {},
   "source": [
    "print(\"This notebook provides an overview of the essential tools and libraries that form the foundation of the data science ecosystem, including programming languages, data analysis and visualization libraries, and other useful tools for working with data.\")\n"
   ]
  },
  {
   "cell_type": "markdown",
   "id": "8384a863",
   "metadata": {},
   "source": [
    "\n",
    "print(\"Some of the popular languages that Data Scientists use are:\")\n",
    "\n",
    "print(\"1. Python\")\n",
    "print(\"2. R\")\n",
    "print(\"3. SQL\")\n"
   ]
  },
  {
   "cell_type": "markdown",
   "id": "50bbb90b",
   "metadata": {},
   "source": [
    "\n",
    "\n",
    "markdown_text = \"Some of the commonly used libraries used by Data Scientists include:\"\n",
    "\n",
    "\n",
    "markdown_text += \"\\n1. Pandas\"\n",
    "markdown_text += \"\\n2. NumPy\"\n",
    "markdown_text += \"\\n3. Scikit-learn\"\n",
    "\n",
    "display(Markdown(markdown_text))\n",
    "\n",
    "\n"
   ]
  },
  {
   "cell_type": "markdown",
   "id": "89e98f38",
   "metadata": {},
   "source": [
    "| Data Science Tools |\n",
    "|-------------------|\n",
    "| Jupyter Notebook   |\n",
    "| RStudio            |\n",
    "| Spyder             |"
   ]
  },
  {
   "cell_type": "markdown",
   "id": "de5299ce",
   "metadata": {},
   "source": [
    "- Addition: `2 + 3 = 5`\n",
    "- Subtraction: `5 - 2 = 3`\n",
    "- Multiplication: `3 * 4 = 12`\n",
    "- Division: `10 / 2 = 5`\n",
    "\n"
   ]
  },
  {
   "cell_type": "code",
   "execution_count": 38,
   "id": "dfac0121",
   "metadata": {},
   "outputs": [
    {
     "data": {
      "text/plain": [
       "17"
      ]
     },
     "execution_count": 38,
     "metadata": {},
     "output_type": "execute_result"
    }
   ],
   "source": [
    "# This is a simple arithmetic expression to multiply then add integers.\n",
    "3 * 4 + 5\n"
   ]
  },
  {
   "cell_type": "code",
   "execution_count": 39,
   "id": "f4cb1c4c",
   "metadata": {},
   "outputs": [
    {
     "data": {
      "text/plain": [
       "3.3333333333333335"
      ]
     },
     "execution_count": 39,
     "metadata": {},
     "output_type": "execute_result"
    }
   ],
   "source": [
    "# This will convert 200 minutes to hours by dividing by 60.\n",
    "200 / 60\n"
   ]
  },
  {
   "cell_type": "markdown",
   "id": "dd19c073",
   "metadata": {},
   "source": [
    "**Objectives:**\n",
    "\n",
    "- Introduce the Jupyter Notebook and basic functionality\n",
    "- Describe the key features and benefits of Jupyter Notebook\n",
    "- Provide examples of using Markdown cells in Jupyter Notebook\n",
    "- Demonstrate how to write and execute Python code in Jupyter Notebook\n",
    "- List popular programming languages and tools used in Data Science\n"
   ]
  },
  {
   "cell_type": "markdown",
   "id": "169e2c77",
   "metadata": {},
   "source": [
    "## Muhammad Afaq\n",
    "\n",
    "My name is Muhammad Afaq\n"
   ]
  }
 ],
 "metadata": {
  "kernelspec": {
   "display_name": "Python 3 (ipykernel)",
   "language": "python",
   "name": "python3"
  },
  "language_info": {
   "codemirror_mode": {
    "name": "ipython",
    "version": 3
   },
   "file_extension": ".py",
   "mimetype": "text/x-python",
   "name": "python",
   "nbconvert_exporter": "python",
   "pygments_lexer": "ipython3",
   "version": "3.9.13"
  }
 },
 "nbformat": 4,
 "nbformat_minor": 5
}
